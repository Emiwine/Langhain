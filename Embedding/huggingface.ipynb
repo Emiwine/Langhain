{
 "cells": [
  {
   "cell_type": "markdown",
   "id": "fb851545",
   "metadata": {},
   "source": [
    "### Embedding techinque using Hugging Face "
   ]
  },
  {
   "cell_type": "markdown",
   "id": "e3bde3ee",
   "metadata": {},
   "source": []
  }
 ],
 "metadata": {
  "language_info": {
   "name": "python"
  }
 },
 "nbformat": 4,
 "nbformat_minor": 5
}
